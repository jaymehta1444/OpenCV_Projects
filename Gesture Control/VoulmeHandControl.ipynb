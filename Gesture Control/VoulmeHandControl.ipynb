{
 "cells": [
  {
   "cell_type": "markdown",
   "metadata": {},
   "source": [
    "### Importing libraries"
   ]
  },
  {
   "cell_type": "code",
   "execution_count": 1,
   "metadata": {},
   "outputs": [],
   "source": [
    "import cv2 as cv\n",
    "import numpy as np\n",
    "import HandTrackingModule as htm\n",
    "import time\n",
    "import math\n",
    "\n",
    "# from pycaw to adjust the volume\n",
    "from ctypes import cast, POINTER\n",
    "from comtypes import CLSCTX_ALL\n",
    "from pycaw.pycaw import AudioUtilities, IAudioEndpointVolume"
   ]
  },
  {
   "cell_type": "code",
   "execution_count": 2,
   "metadata": {},
   "outputs": [
    {
     "data": {
      "text/plain": [
       "True"
      ]
     },
     "execution_count": 2,
     "metadata": {},
     "output_type": "execute_result"
    }
   ],
   "source": [
    "wCam, hCam = 640, 480\n",
    "\n",
    "cap = cv.VideoCapture(0)\n",
    "cap.set(3, wCam)\n",
    "cap.set(4, hCam)"
   ]
  },
  {
   "cell_type": "markdown",
   "metadata": {},
   "source": [
    "**Creating an object of the class (from the module we created to detect hands)**"
   ]
  },
  {
   "cell_type": "code",
   "execution_count": 3,
   "metadata": {},
   "outputs": [],
   "source": [
    "detector = htm.handDetector(detectionCon=0, maxHands=1)"
   ]
  },
  {
   "cell_type": "code",
   "execution_count": 4,
   "metadata": {},
   "outputs": [],
   "source": [
    "devices = AudioUtilities.GetSpeakers()\n",
    "interface = devices.Activate(\n",
    "    IAudioEndpointVolume._iid_, CLSCTX_ALL, None\n",
    ")\n",
    "volume = cast(interface, POINTER(IAudioEndpointVolume))\n",
    "\n",
    "volRange = volume.GetVolumeRange()\n",
    "minVol = volRange[0]\n",
    "maxVol = volRange[1]\n",
    "vol=0\n",
    "volBar=400\n",
    "volPerc=0\n",
    "area=0\n",
    "colorVol = (255, 0, 0)"
   ]
  },
  {
   "cell_type": "code",
   "execution_count": 5,
   "metadata": {},
   "outputs": [
    {
     "name": "stderr",
     "output_type": "stream",
     "text": [
      "C:\\Users\\jayme\\AppData\\Local\\Packages\\PythonSoftwareFoundation.Python.3.12_qbz5n2kfra8p0\\LocalCache\\local-packages\\Python312\\site-packages\\google\\protobuf\\symbol_database.py:55: UserWarning: SymbolDatabase.GetPrototype() is deprecated. Please use message_factory.GetMessageClass() instead. SymbolDatabase.GetPrototype() will be removed soon.\n",
      "  warnings.warn('SymbolDatabase.GetPrototype() is deprecated. Please '\n"
     ]
    },
    {
     "ename": "KeyboardInterrupt",
     "evalue": "",
     "output_type": "error",
     "traceback": [
      "\u001b[1;31m---------------------------------------------------------------------------\u001b[0m",
      "\u001b[1;31mKeyboardInterrupt\u001b[0m                         Traceback (most recent call last)",
      "Cell \u001b[1;32mIn[5], line 47\u001b[0m\n\u001b[0;32m     43\u001b[0m cv\u001b[38;5;241m.\u001b[39mputText(img, \u001b[38;5;124mf\u001b[39m\u001b[38;5;124m'\u001b[39m\u001b[38;5;124mVol Set: \u001b[39m\u001b[38;5;132;01m{\u001b[39;00m\u001b[38;5;28mint\u001b[39m(cVol)\u001b[38;5;132;01m}\u001b[39;00m\u001b[38;5;124m'\u001b[39m, (\u001b[38;5;241m400\u001b[39m, \u001b[38;5;241m50\u001b[39m), cv\u001b[38;5;241m.\u001b[39mFONT_HERSHEY_COMPLEX, \u001b[38;5;241m1\u001b[39m, colorVol, \u001b[38;5;241m3\u001b[39m)\n\u001b[0;32m     46\u001b[0m cv\u001b[38;5;241m.\u001b[39mimshow(\u001b[38;5;124m\"\u001b[39m\u001b[38;5;124mImage\u001b[39m\u001b[38;5;124m\"\u001b[39m, img)\n\u001b[1;32m---> 47\u001b[0m \u001b[43mcv\u001b[49m\u001b[38;5;241;43m.\u001b[39;49m\u001b[43mwaitKey\u001b[49m\u001b[43m(\u001b[49m\u001b[38;5;241;43m20\u001b[39;49m\u001b[43m)\u001b[49m\n",
      "\u001b[1;31mKeyboardInterrupt\u001b[0m: "
     ]
    }
   ],
   "source": [
    "while True:\n",
    "    success, img = cap.read()\n",
    "\n",
    "    # Finding hands\n",
    "    img = detector.findHands(img)\n",
    "    lmList, bbox = detector.findPosition(img, draw=True)\n",
    "    if len(lmList) != 0 :\n",
    "\n",
    "        # Filtering based on the size of the hand\n",
    "        area = (bbox[2]-bbox[0])*(bbox[3]-bbox[1])//100\n",
    "        \n",
    "        if 250 < area < 1000: # tackles the problem of varying distance of the hand from the screen problem\n",
    "\n",
    "            # Distance between the index finger and the thumb\n",
    "            length, img, lineInfo = detector.findDistance(4, 8, img)\n",
    "            \n",
    "            # Finger distance range: 50 to 300\n",
    "            # Volume Range: -65 to 0\n",
    "            # Converting volume\n",
    "            volBar = np.interp(length, [50, 300], [400, 150]) \n",
    "            volPerc = np.interp(length, [50, 300], [0, 100])\n",
    "\n",
    "            # Reducing resolution to make it smoother\n",
    "            smoothness = 10\n",
    "            volPerc = smoothness * round(volPerc / smoothness)\n",
    "\n",
    "            # Check if the fingers are up\n",
    "            fingers = detector.fingersUp()\n",
    "\n",
    "            # Setting the volume if the pinky finger is down\n",
    "            if not fingers[4]:\n",
    "                volume.SetMasterVolumeLevelScalar(volPerc / 100, None)\n",
    "                cv.circle(img, (lineInfo[4], lineInfo[5]), 15, (0, 255, 0), cv.FILLED)\n",
    "                colorVol = (0, 255, 0)\n",
    "            else:\n",
    "                colorVol = (255, 0, 0)\n",
    "\n",
    "    # Drawings\n",
    "    cv.rectangle(img, (50, 150), (85, 400), (255, 0, 0), 3)\n",
    "    cv.rectangle(img, (50, int(volBar)), (85, 400), (255, 0, 0), cv.FILLED)\n",
    "    cv.putText(img, f'{int(volPerc)} %', (40, 450), cv.FONT_HERSHEY_COMPLEX, 1, (255, 0, 0), 3)\n",
    "    cVol = int(volume.GetMasterVolumeLevelScalar() * 100)\n",
    "    cv.putText(img, f'Vol Set: {int(cVol)}', (400, 50), cv.FONT_HERSHEY_COMPLEX, 1, colorVol, 3)\n",
    "\n",
    "    \n",
    "    cv.imshow(\"Image\", img)\n",
    "    cv.waitKey(20)"
   ]
  },
  {
   "cell_type": "code",
   "execution_count": null,
   "metadata": {},
   "outputs": [],
   "source": []
  }
 ],
 "metadata": {
  "kernelspec": {
   "display_name": "Python 3 (ipykernel)",
   "language": "python",
   "name": "python3"
  },
  "language_info": {
   "codemirror_mode": {
    "name": "ipython",
    "version": 3
   },
   "file_extension": ".py",
   "mimetype": "text/x-python",
   "name": "python",
   "nbconvert_exporter": "python",
   "pygments_lexer": "ipython3",
   "version": "3.12.4"
  }
 },
 "nbformat": 4,
 "nbformat_minor": 4
}
