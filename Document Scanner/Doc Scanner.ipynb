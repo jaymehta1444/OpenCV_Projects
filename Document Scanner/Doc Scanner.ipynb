{
 "cells": [
  {
   "cell_type": "code",
   "execution_count": 4,
   "metadata": {},
   "outputs": [],
   "source": [
    "import cv2 as cv\n",
    "import numpy as np"
   ]
  },
  {
   "cell_type": "code",
   "execution_count": 5,
   "metadata": {},
   "outputs": [
    {
     "data": {
      "text/plain": [
       "True"
      ]
     },
     "execution_count": 5,
     "metadata": {},
     "output_type": "execute_result"
    }
   ],
   "source": [
    "imgWidth = 640\n",
    "imgHeight = 480\n",
    "cap = cv.VideoCapture(0)\n",
    "cap.set(3, imgWidth)\n",
    "cap.set(4, imgHeight)\n",
    "cap.set(10, 150)"
   ]
  },
  {
   "cell_type": "markdown",
   "metadata": {},
   "source": [
    "### Preprocessing"
   ]
  },
  {
   "cell_type": "code",
   "execution_count": 6,
   "metadata": {},
   "outputs": [],
   "source": [
    "def preProcessing(img):\n",
    "    imgGray = cv.cvtColor(img, cv.COLOR_BGR2GRAY)\n",
    "    imgBlur = cv.GaussianBlur(imgGray, (5,5), 1)\n",
    "    imgCanny = cv.Canny(imgBlur, 200, 200) # finding edges\n",
    "    kernel = np.ones((5,5))\n",
    "    imgDial = cv.dilate(imgCanny, kernel, iterations=2)\n",
    "    imgThresh = cv.erode(imgDial, kernel, iterations=1)\n",
    "    \n",
    "    return imgThresh"
   ]
  },
  {
   "cell_type": "markdown",
   "metadata": {},
   "source": [
    "### Getting the Contours"
   ]
  },
  {
   "cell_type": "code",
   "execution_count": 17,
   "metadata": {},
   "outputs": [],
   "source": [
    "def getContours(img):\n",
    "    biggest = np.array([])\n",
    "    maxArea = 0\n",
    "    contours, hierarchy = cv.findContours(img, cv.RETR_EXTERNAL, cv.CHAIN_APPROX_NONE) # finds all the contours\n",
    "    for cnt in contours: # loops through each contour\n",
    "        area = cv.contourArea(cnt)\n",
    "        if area > 500: # setting a threshold for the contour area\n",
    "            peri = cv.arcLength(cnt, True)\n",
    "            approx = cv.approxPolyDP(cnt, 0.02*peri, True) # corner points\n",
    "            if area > maxArea and len(approx) == 4: # checks if it has 4 sides (rect/square) and the area is the maximum\n",
    "                biggest = approx\n",
    "                maxArea = area\n",
    "    cv.drawContours(imgContour, biggest, -1, (255, 0, 0), 20)\n",
    "    return biggest"
   ]
  },
  {
   "cell_type": "markdown",
   "metadata": {},
   "source": [
    "### Reordering"
   ]
  },
  {
   "cell_type": "markdown",
   "metadata": {},
   "source": [
    "**The corner points received from the above function isn't necessarily in the order required.**\n",
    "\n",
    "**Therefore, we need to reorder them into the right format**"
   ]
  },
  {
   "cell_type": "code",
   "execution_count": 8,
   "metadata": {},
   "outputs": [],
   "source": [
    "def reorder (myPoints):\n",
    "    myPoints = myPoints.reshape((4,2)) # we reshape to use numpy functions\n",
    "    myPointsNew = np.zeros((4,1,2),np.int32) # the output has to be the same shape as the input\n",
    "    add = myPoints.sum(1)\n",
    "    myPointsNew[0] = myPoints[np.argmin(add)]\n",
    "    myPointsNew[3] = myPoints[np.argmax(add)]\n",
    "    diff = np.diff(myPoints, axis=1)\n",
    "    myPointsNew[1]= myPoints[np.argmin(diff)]\n",
    "    myPointsNew[2] = myPoints[np.argmax(diff)]\n",
    "    return myPointsNew"
   ]
  },
  {
   "cell_type": "markdown",
   "metadata": {},
   "source": [
    "### Warping"
   ]
  },
  {
   "cell_type": "code",
   "execution_count": 9,
   "metadata": {},
   "outputs": [],
   "source": [
    "def getWarp(img, biggest):\n",
    "    biggest = reorder(biggest)\n",
    "    pts1 = np.float32(biggest) # the actual position of the corner points\n",
    "    pts2 = np.float32([[0, 0], [imgWidth, 0], [0, imgHeight], [imgWidth, imgHeight]]) # the positions into which we want to map our image\n",
    "    matrix = cv.getPerspectiveTransform(pts1, pts2)\n",
    "    imgOutput = cv.warpPerspective(img, matrix, (imgWidth, imgHeight))\n",
    "\n",
    "    imgCropped = imgOutput[20:imgOutput.shape[0]-20, 20:imgOutput.shape[1]-20] # removes extra portion\n",
    "    imgCropped = cv.resize(imgCropped, (imgWidth, imgHeight))\n",
    "\n",
    "    return imgCropped"
   ]
  },
  {
   "cell_type": "markdown",
   "metadata": {},
   "source": [
    "### Stacking the images to be shown"
   ]
  },
  {
   "cell_type": "code",
   "execution_count": 14,
   "metadata": {},
   "outputs": [],
   "source": [
    "def stackImages(scale, imgArray):\n",
    "    rows = len(imgArray)\n",
    "    cols = len(imgArray[0])\n",
    "    rowsAvailable = isinstance(imgArray[0], list)\n",
    "    width = imgArray[0][0].shape[1]\n",
    "    height = imgArray[0][0].shape[0]\n",
    "    if rowsAvailable:\n",
    "        for x in range ( 0, rows):\n",
    "            for y in range(0, cols):\n",
    "                if imgArray[x][y].shape[:2] == imgArray[0][0].shape [:2]:\n",
    "                    imgArray[x][y] = cv.resize(imgArray[x][y], (0, 0), None, scale, scale)\n",
    "                else:\n",
    "                    imgArray[x][y] = cv.resize(imgArray[x][y], (imgArray[0][0].shape[1], imgArray[0][0].shape[0]), None, scale, scale)\n",
    "                if len(imgArray[x][y].shape) == 2: imgArray[x][y]= cv.cvtColor( imgArray[x][y], cv.COLOR_GRAY2BGR)\n",
    "        imageBlank = np.zeros((height, width, 3), np.uint8)\n",
    "        hor = [imageBlank]*rows\n",
    "        hor_con = [imageBlank]*rows\n",
    "        for x in range(0, rows):\n",
    "            hor[x] = np.hstack(imgArray[x])\n",
    "        ver = np.vstack(hor)\n",
    "    else:\n",
    "        for x in range(0, rows):\n",
    "            if imgArray[x].shape[:2] == imgArray[0].shape[:2]:\n",
    "                imgArray[x] = cv.resize(imgArray[x], (0, 0), None, scale, scale)\n",
    "            else:\n",
    "                imgArray[x] = cv.resize(imgArray[x], (imgArray[0].shape[1], imgArray[0].shape[0]), None,scale, scale)\n",
    "            if len(imgArray[x].shape) == 2: imgArray[x] = cv.cvtColor(imgArray[x], cv.COLOR_GRAY2BGR)\n",
    "        hor= np.hstack(imgArray)\n",
    "        ver = hor\n",
    "    return ver"
   ]
  },
  {
   "cell_type": "code",
   "execution_count": 19,
   "metadata": {},
   "outputs": [],
   "source": [
    "while True:\n",
    "    success, img = cap.read()\n",
    "    img = cv.resize(img, (imgWidth, imgHeight))\n",
    "    imgContour = img.copy()\n",
    "\n",
    "    imgThres = preProcessing(img)\n",
    "    biggest = getContours(imgThres)\n",
    "    if biggest.size !=0:\n",
    "        imgWarped=getWarp(img,biggest)\n",
    "        imageArray = ([img,imgThres],\n",
    "                   [imgContour,imgWarped])\n",
    "        cv.imshow(\"ImageWarped\", imgWarped)\n",
    "    else:\n",
    "        imageArray = ([img, imgThres],\n",
    "                       [img, img])\n",
    "\n",
    "    stackedImages = stackImages(0.6, imageArray)\n",
    "    cv.imshow(\"WorkFlow\", stackedImages)\n",
    "\n",
    "    if cv.waitKey(1) & 0xFF == ord('q'):\n",
    "        break"
   ]
  },
  {
   "cell_type": "code",
   "execution_count": null,
   "metadata": {},
   "outputs": [],
   "source": []
  }
 ],
 "metadata": {
  "kernelspec": {
   "display_name": "Python 3 (ipykernel)",
   "language": "python",
   "name": "python3"
  },
  "language_info": {
   "codemirror_mode": {
    "name": "ipython",
    "version": 3
   },
   "file_extension": ".py",
   "mimetype": "text/x-python",
   "name": "python",
   "nbconvert_exporter": "python",
   "pygments_lexer": "ipython3",
   "version": "3.12.4"
  }
 },
 "nbformat": 4,
 "nbformat_minor": 4
}
